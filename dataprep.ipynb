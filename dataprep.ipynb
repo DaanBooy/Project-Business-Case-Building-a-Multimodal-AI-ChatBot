{
 "cells": [
  {
   "cell_type": "markdown",
   "id": "77f24e54",
   "metadata": {},
   "source": [
    "## Data preparations file\n",
    "This notebook covers the text cleaning of the dataset, the segmentation, chunking and embedding. Followed by creating the vector storage with ChromaDB."
   ]
  },
  {
   "cell_type": "markdown",
   "id": "9e517b61",
   "metadata": {},
   "source": [
    "# Installations"
   ]
  },
  {
   "cell_type": "code",
   "execution_count": 1,
   "id": "0f4e7012",
   "metadata": {},
   "outputs": [],
   "source": [
    "# !pip install -q langchain langchain-community langchain-text-splitters chromadb sentence-transformers tiktoken"
   ]
  },
  {
   "cell_type": "markdown",
   "id": "cbd9e3bb",
   "metadata": {},
   "source": [
    "# Imports"
   ]
  },
  {
   "cell_type": "code",
   "execution_count": null,
   "id": "985e8469",
   "metadata": {},
   "outputs": [],
   "source": [
    "from pathlib import Path\n",
    "import math\n",
    "import re, unicodedata, json\n",
    "from typing import List, Dict\n",
    "from langchain_core.documents import Document\n",
    "from langchain_text_splitters import RecursiveCharacterTextSplitter\n",
    "from langchain_community.vectorstores import Chroma\n",
    "from langchain_community.embeddings import HuggingFaceEmbeddings\n",
    "from langchain_community.vectorstores.utils import filter_complex_metadata"
   ]
  },
  {
   "cell_type": "markdown",
   "id": "4587eb66",
   "metadata": {},
   "source": [
    "# Inspecting dataset\n",
    "inspecting to decide on chroma or pinecone for vector storage."
   ]
  },
  {
   "cell_type": "code",
   "execution_count": 3,
   "id": "50f20af5",
   "metadata": {},
   "outputs": [
    {
     "name": "stdout",
     "output_type": "stream",
     "text": [
      "File size: 0.23 MB\n",
      "Estimated chunks: 296\n",
      "Embedding RAM (384-dim) ≈ 0.4 MB\n"
     ]
    }
   ],
   "source": [
    "RAW = \"./dataset.txt\" \n",
    "chunk_size, overlap = 900, 120\n",
    "dim, bpf = 384, 4  # MiniLM dims\n",
    "\n",
    "text = Path(RAW).read_text(encoding=\"utf-8\")\n",
    "size_mb = Path(RAW).stat().st_size / (1024**2)\n",
    "est_chunks = (len(text) + (chunk_size - overlap) - 1) // (chunk_size - overlap)\n",
    "emb_mem_mb = est_chunks * dim * bpf / (1024**2)\n",
    "\n",
    "print(f\"File size: {size_mb:.2f} MB\")\n",
    "print(f\"Estimated chunks: {est_chunks:,}\")\n",
    "print(f\"Embedding RAM (384-dim) ≈ {emb_mem_mb:.1f} MB\")\n"
   ]
  },
  {
   "cell_type": "markdown",
   "id": "406d4919",
   "metadata": {},
   "source": [
    "# Config"
   ]
  },
  {
   "cell_type": "code",
   "execution_count": 4,
   "id": "4bb5a682",
   "metadata": {},
   "outputs": [],
   "source": [
    "RAW_PATH = \"./dataset.txt\"          \n",
    "DB_DIR   = \"./chroma_growguide\"\n",
    "CHUNK_SIZE = 900\n",
    "CHUNK_OVERLAP = 120\n",
    "EMBED_MODEL = \"sentence-transformers/all-MiniLM-L6-v2\"  # 384-dim, lightweight"
   ]
  },
  {
   "cell_type": "markdown",
   "id": "a869bbfe",
   "metadata": {},
   "source": [
    "## Loading and cleaning"
   ]
  },
  {
   "cell_type": "code",
   "execution_count": 5,
   "id": "5f55b88e",
   "metadata": {},
   "outputs": [
    {
     "name": "stdout",
     "output_type": "stream",
     "text": [
      "Loaded & cleaned text. Characters: 230251\n"
     ]
    }
   ],
   "source": [
    "raw = Path(RAW_PATH).read_text(encoding=\"utf-8\")\n",
    "\n",
    "def clean_text(s: str) -> str:\n",
    "    s = unicodedata.normalize(\"NFKC\", s)\n",
    "    s = re.sub(r\"[ \\t]+\\n\", \"\\n\", s)         # trim trailing spaces\n",
    "    s = re.sub(r\"\\n{3,}\", \"\\n\\n\", s)         # collapse blank lines\n",
    "    s = s.strip()\n",
    "    return s\n",
    "\n",
    "text = clean_text(raw)\n",
    "print(\"Loaded & cleaned text. Characters:\", len(text))"
   ]
  },
  {
   "cell_type": "markdown",
   "id": "dafa525e",
   "metadata": {},
   "source": [
    "## Segmenting into docs\n",
    "First in 3 main sections, then later per section"
   ]
  },
  {
   "cell_type": "code",
   "execution_count": null,
   "id": "c8ae2ce1",
   "metadata": {},
   "outputs": [
    {
     "name": "stdout",
     "output_type": "stream",
     "text": [
      "Docs by category: {'fruits': 3, 'planner': 15, 'veg_list': 66}\n",
      "Total docs: 84\n",
      "\n",
      "DOC 1 META: {'category': 'fruits', 'topic': 'overview'}\n",
      "One of the most essential tips for growing fruits successfully is selecting varieties suited to your specific climate. Growing the wrong fruit for your region leads to poor yields, disease issues, and plant stress. Under ...\n",
      "\n",
      "DOC 2 META: {'category': 'fruits', 'topic': 'usda zone and suitable fruits'}\n",
      "Zone 3 Apples, currants, gooseberries, hardy plums Zone 4 Apples, cherries, raspberries, cold-hardy grapes Zone 5 Pears, apricots, plums, blueberries Zone 6 Peaches, nectarines, grapes, blackberries Zone 7 Figs, persimmo ...\n",
      "\n",
      "DOC 3 META: {'category': 'fruits', 'topic': 'match fruit varieties to local conditions'}\n",
      "Beyond hardiness, consider other local climate factors such as:  Chill hours: Some fruits like apples and peaches require a specific number of chill hours (hours below 45°F) to produce fruit.  Humidity: High humidity are ...\n"
     ]
    }
   ],
   "source": [
    "# SEGMENT INTO DOCS (Fruits / Veg planner / Veg list) \n",
    "# Robust patterns for the three main sections\n",
    "pat_fruits   = r\"^===\\s*Fruits\\s*===\\s*$\"\n",
    "pat_planner  = r\"^===\\s*Vegetables planner per zone\\s*===\\s*$\"\n",
    "pat_veglist  = r\"^===\\s*The list of vegetables and their information\\s*===\\s*$\"\n",
    "\n",
    "def _find_header(stext: str, pat: str):\n",
    "    m = re.search(pat, stext, flags=re.M|re.I)\n",
    "    return None if not m else (m.start(), m.end())\n",
    "\n",
    "h_fruits  = _find_header(text, pat_fruits)\n",
    "h_plan    = _find_header(text, pat_planner)\n",
    "h_veglist = _find_header(text, pat_veglist)\n",
    "\n",
    "assert all(h is not None for h in [h_fruits, h_plan, h_veglist]), \\\n",
    "    f\"Missing one of the headers. Found: fruits={h_fruits}, planner={h_plan}, veg_list={h_veglist}\"\n",
    "\n",
    "# Slice sections by header positions\n",
    "boundaries = sorted([(\"fruits\",*h_fruits), (\"planner\",*h_plan), (\"veglist\",*h_veglist)], key=lambda x: x[1])\n",
    "sections: Dict[str, str] = {}\n",
    "for i,(name, start, end) in enumerate(boundaries):\n",
    "    sec_start = end\n",
    "    sec_end = boundaries[i+1][1] if i+1 < len(boundaries) else len(text)\n",
    "    sections[name] = text[sec_start:sec_end].strip()\n",
    "\n",
    "# --- Fruits: split by '== Subheader ==' ---\n",
    "fr = sections[\"fruits\"]\n",
    "fr_sub_pat = r\"^==\\s*(.+?)\\s*==\\s*$\"\n",
    "fr_matches = list(re.finditer(fr_sub_pat, fr, flags=re.M))\n",
    "fruit_docs = []\n",
    "if not fr_matches:\n",
    "    fruit_docs.append((\"overview\", fr.strip()))\n",
    "else:\n",
    "    # any text before first subheader = overview\n",
    "    preface = fr[:fr_matches[0].start()].strip()\n",
    "    if preface:\n",
    "        fruit_docs.append((\"overview\", preface))\n",
    "    for i,m in enumerate(fr_matches):\n",
    "        topic = m.group(1).strip()\n",
    "        start = m.end()\n",
    "        end = fr_matches[i+1].start() if i+1 < len(fr_matches) else len(fr)\n",
    "        body = fr[start:end].strip()\n",
    "        if body:\n",
    "            fruit_docs.append((topic, body))\n",
    "\n",
    "# --- Planner: clean intro lines; then split by '== Zones ... ==' and by month lines ---\n",
    "pl = sections[\"planner\"]\n",
    "\n",
    "# Droping explanatory lines immediately after the planner header so they don't leak into Zone docs\n",
    "# keep removing leading lines until we hit a '== ... ==' zone header.\n",
    "def strip_planner_intro(s: str) -> str:\n",
    "    lines = s.splitlines()\n",
    "    i = 0\n",
    "    while i < len(lines) and not re.match(r\"^==\\s*Zones?\\b\", lines[i].strip(), flags=re.I):\n",
    "        i += 1\n",
    "    return \"\\n\".join(lines[i:]).strip()\n",
    "\n",
    "pl = strip_planner_intro(pl)\n",
    "\n",
    "zone_pat   = r\"^==\\s*Zones?\\s*([0-9abAB ,+and-]+)\\s*:?==\\s*$\"\n",
    "month_pat  = r\"^(January|February|March|April|May|June|July|August|September|October|November|December)\\s*:\\s*$\"\n",
    "\n",
    "zones = list(re.finditer(zone_pat, pl, flags=re.M))\n",
    "planner_docs = []\n",
    "if zones:\n",
    "    for zi, z in enumerate(zones):\n",
    "        zone_label = z.group(1).strip()              # e.g., \"3 and 4\", \"5 and 6\", \"7, 8 and 9+\"\n",
    "        zstart = z.end()\n",
    "        zend   = zones[zi+1].start() if zi+1 < len(zones) else len(pl)\n",
    "        zbody  = pl[zstart:zend].strip()\n",
    "\n",
    "        # Split by months inside the zone\n",
    "        months = list(re.finditer(month_pat, zbody, flags=re.M))\n",
    "        if not months:\n",
    "            planner_docs.append({\"zones\": zone_label, \"month\": None, \"content\": zbody})\n",
    "        else:\n",
    "            preface = zbody[:months[0].start()].strip()\n",
    "            if preface:\n",
    "                planner_docs.append({\"zones\": zone_label, \"month\": None, \"content\": preface})\n",
    "            for mi, m in enumerate(months):\n",
    "                mlabel = m.group(1)\n",
    "                mstart = m.end()\n",
    "                mend   = months[mi+1].start() if mi+1 < len(months) else len(zbody)\n",
    "                mtext  = zbody[mstart:mend].strip()\n",
    "                if mtext:\n",
    "                    planner_docs.append({\"zones\": zone_label, \"month\": mlabel, \"content\": mtext})\n",
    "else:\n",
    "    planner_docs.append({\"zones\": None, \"month\": None, \"content\": pl})\n",
    "\n",
    "# --- Vegetable list: split each '== Name ==' and keep the whole entry; also tag common fields if present ---\n",
    "vl = sections[\"veglist\"]\n",
    "veg_pat = r\"^==\\s*([A-Za-z][A-Za-z0-9 .,’'/-]+?)\\s*==\\s*$\"\n",
    "veg_matches = list(re.finditer(veg_pat, vl, flags=re.M))\n",
    "veg_docs = []\n",
    "for i,m in enumerate(veg_matches):\n",
    "    name  = m.group(1).strip().rstrip(\".\")\n",
    "    start = m.end()\n",
    "    end   = veg_matches[i+1].start() if i+1 < len(veg_matches) else len(vl)\n",
    "    body  = vl[start:end].strip()\n",
    "    if body:\n",
    "        # Light topic extraction for filtering\n",
    "        vocab = [\"yield\",\"planting\",\"conditions\",\"soil\",\"care\",\"companions\",\"harvest\",\"storage\",\n",
    "                 \"fertilizer\",\"spacing\",\"watering\",\"pests\",\"diseases\",\"maturity\",\"sun\",\"shade\"]\n",
    "        topics = sorted({t for t in vocab if re.search(rf\"\\b{t}\\b\", body, flags=re.I)})\n",
    "        veg_docs.append({\"name\": name, \"content\": body, \"topics\": topics})\n",
    "\n",
    "# --- Assemble LangChain Documents ---\n",
    "docs: List[Document] = []\n",
    "\n",
    "# Fruits\n",
    "for topic, body in fruit_docs:\n",
    "    docs.append(Document(page_content=body, metadata={\"category\":\"fruits\",\"topic\":topic.lower()}))\n",
    "\n",
    "# Planner\n",
    "for e in planner_docs:\n",
    "    meta = {\"category\":\"vegetable_planner\"}\n",
    "    if e[\"zones\"]: meta[\"zones\"] = e[\"zones\"]\n",
    "    if e[\"month\"]: meta[\"month\"] = e[\"month\"]\n",
    "    docs.append(Document(page_content=e[\"content\"], metadata=meta))\n",
    "\n",
    "# Veg list\n",
    "for v in veg_docs:\n",
    "    docs.append(Document(page_content=v[\"content\"],\n",
    "                         metadata={\"category\":\"vegetable_list\",\"crop\":v[\"name\"].lower(),\"topics\":v[\"topics\"]}))\n",
    "\n",
    "print(\"Docs by category:\", {\n",
    "    \"fruits\": sum(d.metadata.get(\"category\")==\"fruits\" for d in docs),\n",
    "    \"planner\": sum(d.metadata.get(\"category\")==\"vegetable_planner\" for d in docs),\n",
    "    \"veg_list\": sum(d.metadata.get(\"category\")==\"vegetable_list\" for d in docs),\n",
    "})\n",
    "print(\"Total docs:\", len(docs))\n",
    "\n",
    "# Peeking at a couple\n",
    "for i in range(min(3, len(docs))):\n",
    "    print(f\"\\nDOC {i+1} META: {docs[i].metadata}\")\n",
    "    print(docs[i].page_content[:220].replace(\"\\n\",\" \") + \" ...\")\n"
   ]
  },
  {
   "cell_type": "markdown",
   "id": "4d73eaa6",
   "metadata": {},
   "source": [
    "## Chunk for retrieval"
   ]
  },
  {
   "cell_type": "code",
   "execution_count": 7,
   "id": "2a4c312d",
   "metadata": {},
   "outputs": [
    {
     "name": "stdout",
     "output_type": "stream",
     "text": [
      "Final chunk count: 350\n",
      "\n",
      "--- CHUNK 1 META --- {'category': 'fruits', 'topic': 'overview'}\n",
      "One of the most essential tips for growing fruits successfully is selecting varieties suited to your specific climate. Growing the wrong fruit for your region leads to poor yields, disease issues, and plant stress. Understanding your local environmen ...\n",
      "\n",
      "--- CHUNK 2 META --- {'category': 'fruits', 'topic': 'usda zone and suitable fruits'}\n",
      "Zone 3 Apples, currants, gooseberries, hardy plums Zone 4 Apples, cherries, raspberries, cold-hardy grapes Zone 5 Pears, apricots, plums, blueberries Zone 6 Peaches, nectarines, grapes, blackberries Zone 7 Figs, persimmons, pomegranates, late peaches ...\n",
      "\n",
      "--- CHUNK 3 META --- {'category': 'fruits', 'topic': 'match fruit varieties to local conditions'}\n",
      "Beyond hardiness, consider other local climate factors such as:  Chill hours: Some fruits like apples and peaches require a specific number of chill hours (hours below 45°F) to produce fruit.  Humidity: High humidity areas may struggle with fungal di ...\n"
     ]
    }
   ],
   "source": [
    "splitter = RecursiveCharacterTextSplitter(\n",
    "    chunk_size=CHUNK_SIZE,\n",
    "    chunk_overlap=CHUNK_OVERLAP,\n",
    "    separators=[\"\\n## \",\"\\n### \",\"\\n\\n\",\"\\n\",\". \",\" \"],\n",
    ")\n",
    "\n",
    "chunks: List[Document] = []\n",
    "for d in docs:\n",
    "    parts = splitter.split_text(d.page_content)\n",
    "    for p in parts:\n",
    "        chunks.append(Document(page_content=p, metadata=dict(d.metadata)))\n",
    "\n",
    "print(f\"Final chunk count: {len(chunks)}\")\n",
    "for i in range(min(3, len(chunks))):\n",
    "    print(f\"\\n--- CHUNK {i+1} META --- {chunks[i].metadata}\")\n",
    "    print(chunks[i].page_content[:250].replace('\\n',' ') + \" ...\")\n"
   ]
  },
  {
   "cell_type": "code",
   "execution_count": 8,
   "id": "cb64a8c4",
   "metadata": {},
   "outputs": [
    {
     "name": "stdout",
     "output_type": "stream",
     "text": [
      "Avg len: 659 | min: 43 | max: 898\n",
      "By category: Counter({'vegetable_list': 299, 'vegetable_planner': 26, 'fruits': 25})\n",
      "\n",
      "Planner sample 1 META: {'category': 'vegetable_planner', 'zones': '5 and 6', 'month': 'March'}\n",
      "Artichoke: Spring of 2nd season Asparagus: Spring of 3rd garden season Beets: 45–60 days (Plant successions at recommended intervals for species.) Onion/Leeks/Shallots*:80–170 days (Plant successions  ...\n",
      "\n",
      "Planner sample 2 META: {'category': 'vegetable_planner', 'zones': '5 and 6', 'month': 'April'}\n",
      "Beets: 45–60 days (Plant successions at recommended intervals for species.) Broccoli: 70–100 days Brussels Sprouts: 100–110 days Cabbage: 50–60 days (Plant successions at recommended intervals for spe ...\n",
      "\n",
      "Planner sample 3 META: {'category': 'vegetable_planner', 'zones': '5 and 6', 'month': 'April'}\n",
      "Lettuce, Leaf: 40–50 days (Plant successions at recommended intervals for species.) Melons, Summer: 70–100 days Melons, Winter: 110 days Okra: 55–65 days Parsnips: 100–130 days (Plant successions at r ...\n"
     ]
    }
   ],
   "source": [
    "# checks on chunks\n",
    "# 1) Length stats\n",
    "lengths = [len(c.page_content) for c in chunks]\n",
    "print(\"Avg len:\", sum(lengths)//len(lengths), \"| min:\", min(lengths), \"| max:\", max(lengths))\n",
    "\n",
    "# 2) Counts by category\n",
    "from collections import Counter\n",
    "print(\"By category:\", Counter(c.metadata.get(\"category\") for c in chunks))\n",
    "\n",
    "# 3) Sample a few planner chunks to confirm zone/month tagging\n",
    "planner_samples = [c for c in chunks if c.metadata.get(\"category\")==\"vegetable_planner\"][:3]\n",
    "for i,c in enumerate(planner_samples,1):\n",
    "    print(f\"\\nPlanner sample {i} META:\", c.metadata)\n",
    "    print(c.page_content[:200].replace(\"\\n\",\" \"), \"...\")\n"
   ]
  },
  {
   "cell_type": "markdown",
   "id": "5be2ea34",
   "metadata": {},
   "source": [
    "## Embedding and persist to Chroma\n",
    "Uncomment the debugging cells if the embedding cell does not work directly."
   ]
  },
  {
   "cell_type": "code",
   "execution_count": null,
   "id": "9debf70c",
   "metadata": {},
   "outputs": [],
   "source": [
    "# !pip install -q sentence-transformers==2.7.0"
   ]
  },
  {
   "cell_type": "code",
   "execution_count": null,
   "id": "6e8b963b",
   "metadata": {},
   "outputs": [
    {
     "name": "stdout",
     "output_type": "stream",
     "text": [
      "Python: 3.13.5 | packaged by Anaconda, Inc. | (main, Jun 12 2025, 16:37:03) [MSC v.1929 64 bit (AMD64)]\n",
      "Executable: c:\\Users\\Acer\\anaconda3\\python.exe\n"
     ]
    }
   ],
   "source": [
    "# import sys, pkgutil, site\n",
    "# print(\"Python:\", sys.version)\n",
    "# print(\"Executable:\", sys.executable)"
   ]
  },
  {
   "cell_type": "code",
   "execution_count": null,
   "id": "b25537c6",
   "metadata": {},
   "outputs": [],
   "source": [
    "# import sys\n",
    "# # make sure pip is the one for this kernel\n",
    "# !{sys.executable} -m pip install -q --upgrade pip\n",
    "# !{sys.executable} -m pip install -q \"sentence-transformers==2.7.0\" \"transformers>=4.41\" \"torch>=2.1\"\n"
   ]
  },
  {
   "cell_type": "code",
   "execution_count": null,
   "id": "f57a61e0",
   "metadata": {},
   "outputs": [
    {
     "name": "stdout",
     "output_type": "stream",
     "text": [
      "sentence-transformers: 2.7.0\n",
      "transformers: 4.56.1\n",
      "torch: 2.8.0+cpu\n",
      "Model load OK\n"
     ]
    }
   ],
   "source": [
    "# import sentence_transformers, transformers, torch\n",
    "# print(\"sentence-transformers:\", sentence_transformers.__version__)\n",
    "# print(\"transformers:\", transformers.__version__)\n",
    "# print(\"torch:\", torch.__version__)\n",
    "\n",
    "# from sentence_transformers import SentenceTransformer\n",
    "# _ = SentenceTransformer(\"sentence-transformers/all-MiniLM-L6-v2\")  # downloads model if needed\n",
    "# print(\"Model load OK\")"
   ]
  },
  {
   "cell_type": "code",
   "execution_count": null,
   "id": "4837ef04",
   "metadata": {},
   "outputs": [
    {
     "name": "stdout",
     "output_type": "stream",
     "text": [
      "Chroma DB persisted to: ./chroma_growguide\n"
     ]
    },
    {
     "name": "stderr",
     "output_type": "stream",
     "text": [
      "C:\\Users\\Acer\\AppData\\Local\\Temp\\ipykernel_32556\\1669353804.py:17: LangChainDeprecationWarning: Since Chroma 0.4.x the manual persistence method is no longer supported as docs are automatically persisted.\n",
      "  vectordb.persist()\n"
     ]
    }
   ],
   "source": [
    "# Force CPU to avoid CUDA issues\n",
    "embeddings = HuggingFaceEmbeddings(\n",
    "    model_name=EMBED_MODEL,              # \"sentence-transformers/all-MiniLM-L6-v2\"\n",
    "    model_kwargs={\"device\": \"cpu\"}       # force CPU to avoid CUDA errors\n",
    ")\n",
    "\n",
    "# Sanitize metadata so all values are str/int/float/bool/None\n",
    "cleaned_chunks = filter_complex_metadata(chunks)\n",
    "\n",
    "vectordb = Chroma.from_documents(\n",
    "    documents=cleaned_chunks,\n",
    "    embedding=embeddings,\n",
    "    persist_directory=DB_DIR\n",
    ")\n",
    "vectordb.persist()\n",
    "print(f\"Chroma DB persisted to: {DB_DIR}\")"
   ]
  },
  {
   "cell_type": "markdown",
   "id": "444c0e81",
   "metadata": {},
   "source": [
    "## Testing \n",
    "Simple retriever to check chroma. Decent result but still some noise. Will make a better retriever as a tool for the agent."
   ]
  },
  {
   "cell_type": "code",
   "execution_count": 19,
   "id": "9e1c4a44",
   "metadata": {},
   "outputs": [
    {
     "name": "stdout",
     "output_type": "stream",
     "text": [
      "\n",
      "Q: When should I plant peas if I live in zone 5?\n",
      "  -> {'crop': 'garden, english, or snap peas', 'category': 'vegetable_list'}\n",
      "  -> {'category': 'vegetable_list', 'crop': 'sugar or snow peas'}\n",
      "  -> {'category': 'vegetable_list', 'crop': 'rhubarb'}\n",
      "  -> {'category': 'fruits', 'topic': 'overview'}\n",
      "\n",
      "Q: Companion plants for tomatoes\n",
      "  -> {'crop': 'cooking, saucing, and paste tomatoes', 'category': 'vegetable_list'}\n",
      "  -> {'category': 'vegetable_list', 'crop': 'cherry, grape, or miniature tomatoes'}\n",
      "  -> {'crop': 'romaine lettuce or cos', 'category': 'vegetable_list'}\n",
      "  -> {'category': 'vegetable_list', 'crop': 'eggplant or aubergine'}\n",
      "\n",
      "Q: Best soil pH and watering for fruit trees\n",
      "  -> {'topic': 'match fruit varieties to local conditions', 'category': 'fruits'}\n",
      "  -> {'category': 'fruits', 'topic': 'match fruit varieties to local conditions'}\n",
      "  -> {'topic': 'match fruit varieties to local conditions', 'category': 'fruits'}\n",
      "  -> {'topic': 'match fruit varieties to local conditions', 'category': 'fruits'}\n",
      "\n",
      "Q: How to store onions after harvest?\n",
      "  -> {'crop': 'onions', 'category': 'vegetable_list'}\n",
      "  -> {'crop': 'onions', 'category': 'vegetable_list'}\n",
      "  -> {'crop': 'kale', 'category': 'vegetable_list'}\n",
      "  -> {'crop': 'jerusalem artichokes or sunchokes', 'category': 'vegetable_list'}\n"
     ]
    }
   ],
   "source": [
    "retriever = vectordb.as_retriever(search_type=\"mmr\", search_kwargs={\"k\": 4})\n",
    "\n",
    "test_queries = [\n",
    "    \"When should I plant peas if I live in zone 5?\",\n",
    "    \"Companion plants for tomatoes\",\n",
    "    \"Best soil pH and watering for fruit trees\",\n",
    "    \"How to store onions after harvest?\",\n",
    "]\n",
    "\n",
    "for q in test_queries:\n",
    "    hits = retriever.get_relevant_documents(q)\n",
    "    print(f\"\\nQ: {q}\")\n",
    "    for h in hits:\n",
    "        print(\"  ->\", h.metadata)\n"
   ]
  }
 ],
 "metadata": {
  "kernelspec": {
   "display_name": "base",
   "language": "python",
   "name": "python3"
  },
  "language_info": {
   "codemirror_mode": {
    "name": "ipython",
    "version": 3
   },
   "file_extension": ".py",
   "mimetype": "text/x-python",
   "name": "python",
   "nbconvert_exporter": "python",
   "pygments_lexer": "ipython3",
   "version": "3.13.5"
  }
 },
 "nbformat": 4,
 "nbformat_minor": 5
}
